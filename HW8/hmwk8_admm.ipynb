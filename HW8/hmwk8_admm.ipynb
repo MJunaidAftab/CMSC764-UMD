{
 "cells": [
  {
   "cell_type": "markdown",
   "metadata": {},
   "source": [
    "Name: **Muhammad Junaid Aftab**\n",
    "UID:  **117396188**"
   ]
  },
  {
   "cell_type": "markdown",
   "metadata": {},
   "source": [
    "# Homework 8:  ADMM"
   ]
  },
  {
   "cell_type": "code",
   "execution_count": 1,
   "metadata": {},
   "outputs": [],
   "source": [
    "from utility import *\n",
    "import numpy as np\n",
    "from numpy import sqrt, sum, abs, sign, max, maximum, minimum, logspace, exp, log, log10, zeros\n",
    "from numpy.linalg import norm\n",
    "from numpy.random import randn, rand, normal, randint\n",
    "import urllib\n",
    "import matplotlib.pyplot as plt\n",
    "np.random.seed(0)\n",
    "def good_job(path):\n",
    "    f = urllib.request.urlopen(path)\n",
    "    a = plt.imread(io.BytesIO(f.read()))\n",
    "    fig = plt.imshow(a)\n",
    "    fig.axes.get_xaxis().set_visible(False)\n",
    "    fig.axes.get_yaxis().set_visible(False)\n",
    "    plt.show()\n",
    "np.random.seed(0)"
   ]
  },
  {
   "cell_type": "markdown",
   "metadata": {},
   "source": [
    "In this problem,\n",
    "you'll write an \"unwrapped ADMM\" solver for the support-vector machine problem\n",
    "$$\n",
    " \\min \\quad \\frac{1}{2} \\|x\\|^2+Ch(Ax)\n",
    "$$ \n",
    "where $h(z) = \\sum_i \\max\\{1-z_i,0\\}$ is the hinge loss function, and  $A = YX$ is the product of the (diagonal) label matrix with the data matrix.  Your solver will be based on the constrained formulation\n",
    "\n",
    "\\begin{align}\n",
    " \\min &\\quad \\frac{1}{2} \\|x\\|^2+Ch(y)\\\\\n",
    " \\text{subject to}&\\quad   y-Ax=0.\n",
    "\\end{align}\n",
    "\n",
    "Start by running the block below to produce a test problem."
   ]
  },
  {
   "cell_type": "code",
   "execution_count": 2,
   "metadata": {},
   "outputs": [],
   "source": [
    "# Define a classification problem\n",
    "X, y = create_classification_problem(100, 10, cond_number=10)\n",
    "A = y*X\n",
    "t = 1/norm(A.T@A)\n",
    "C = 1"
   ]
  },
  {
   "cell_type": "markdown",
   "metadata": {},
   "source": [
    "### Write the scaled augmented Lagrangian for the constrained problem\n",
    "Use $\\lambda$ to denote the Lagrange multiplier.\n",
    " \n",
    "The augmented Lagranigian is,\n",
    "\n",
    "$$\n",
    "\\mathcal{L}(x, y, \\lambda) \n",
    "=\n",
    "\\frac{1}{2} \\|x\\|^2+Ch(y)\n",
    "+\n",
    "\\frac{\\tau}{2} \\| y - Ax + \\lambda/\\tau \\|^2.\n",
    "$$\n",
    "\n",
    "As in the slides, we replace $\\lambda$ by $\\hat{\\lambda} = \\lambda/\\tau$ below."
   ]
  },
  {
   "cell_type": "markdown",
   "metadata": {},
   "source": [
    "### Write the system of equations that needs to be solved to update $x$\n",
    "\n",
    "Recall that the ADMM solver for the problem is given by,\n",
    "\n",
    "$$\n",
    "x^{k+1} = \\text{arg min}_x \\dfrac{1}{2}||x||^2 + \\dfrac{\\tau}{2}||y^k - Ax + \\lambda^k||^2, \\\\\n",
    "y^{k+1} = \\text{arg min}_y Ch(y) + \\dfrac{\\tau}{2}||y - Ax^{k+1} + \\lambda^k||^2, \\\\\n",
    "\\lambda^{k+1} = \\hat{\\lambda}^k  + y^{k+1} - Ax^{k+1}.\n",
    "$$\n",
    "\n",
    "To update $x$, we must solve,\n",
    "\n",
    "$$\n",
    "\\text{argmin}_{x}\n",
    "\\frac{1}{2} \\|x\\|^2 +\n",
    "\\frac{\\tau}{2}\n",
    "\\| y - Ax + \\hat{\\lambda} \\|^2.\n",
    "$$\n",
    "\n",
    "Taking derivaties, the optimality condition is,\n",
    "\n",
    "$$\n",
    "x - \\tau A^T( y - Ax + \\hat{\\lambda} ) = 0.\n",
    "$$\n",
    "\n",
    "Rearranging, we get,\n",
    "\n",
    "$$\n",
    "(I + \\tau A^T A )x = \\tau A^T( \\hat{\\lambda} + y ).\n",
    "$$\n",
    "\n",
    "This implies\n",
    "\n",
    "$$\n",
    "x = \\tau (I + \\tau A^T A )^{-1} A^T( \\hat{\\lambda} + y ).\n",
    "$$"
   ]
  },
  {
   "cell_type": "markdown",
   "metadata": {},
   "source": [
    "### Write a routine to evaluate the prox operator of the hinge loss. Your routine will return the solution to the prox problem\n",
    "$$\\text{prox}_h(z,t) = \\arg\\min_x h(x) + \\frac{1}{2t}\\|x-z\\|^2.$$\n",
    "You cannot use an iterative method to compute this value.  Note: this can be done with one line of code.  The prox operator for the hinge loss is a lot like the prox operator for L1."
   ]
  },
  {
   "cell_type": "code",
   "execution_count": 3,
   "metadata": {},
   "outputs": [],
   "source": [
    "def hprox(z,t):\n",
    "    return np.fmax( np.fmin( np.fmin(z,1-t) + t, 1), z )"
   ]
  },
  {
   "cell_type": "markdown",
   "metadata": {},
   "source": [
    "### Now run these unit tests"
   ]
  },
  {
   "cell_type": "code",
   "execution_count": 4,
   "metadata": {},
   "outputs": [],
   "source": [
    "assert hprox(0,1)==1, \"Your prox operator failed unit test 1\"\n",
    "assert hprox(1,1)==1, \"Your prox operator failed unit test 2\"\n",
    "assert hprox(-1,1)==0, \"Your prox operator failed unit test 3\"\n",
    "assert hprox(1,2)==1, \"Your prox operator failed unit test 4\"\n",
    "assert hprox(1,3)==1, \"Your prox operator failed unit test 5\"\n",
    "assert hprox(4,3)==4, \"Your prox operator failed unit test 6\""
   ]
  },
  {
   "cell_type": "markdown",
   "metadata": {},
   "source": [
    "### Write an ADMM loop to solve the SVM problem above.  \n",
    "Use your prox operator for the $y$ update.\n",
    "Run the solver until the primal and dual residuals satisfy\n",
    "$$p^k \\le 10^{-5} \\max_{i<k}p^i$$\n",
    "$$d^k \\le 10^{-5} \\max_{i<k}d^i.$$\n",
    "The residuals are given by \n",
    "$$p^k = \\|Ax^k-y^k\\|$$\n",
    "$$d^k = \\|\\tau A^T(y^k-y^{k-1})\\|.$$"
   ]
  },
  {
   "cell_type": "code",
   "execution_count": 11,
   "metadata": {},
   "outputs": [],
   "source": [
    "def ADMM(hprox, x, y, l, t, max_iters = 10000, tol=1e-6):\n",
    "    \n",
    "    l = l/t\n",
    "    \n",
    "    I = np.identity(np.shape(A.T@A)[0])\n",
    "    M = np.linalg.inv(I + t*A.T@A)\n",
    "    \n",
    "    p = []\n",
    "    d = []\n",
    "    \n",
    "    k = 0\n",
    "    Boolean = True\n",
    "    \n",
    "    while k <= max_iters and Boolean == True:\n",
    "        \n",
    "        x = t*(M@A.T@(l + y))\n",
    "        ynew = hprox(A@x - l,1/t)\n",
    "        l = l - A@x + ynew\n",
    "        \n",
    "        p.append(np.linalg.norm(A@x - ynew))\n",
    "        d.append(np.linalg.norm(t*(A.T@(ynew - y))))\n",
    "\n",
    "        if p[-1] <= (10*(-5))*np.max(p) and d[-1] <= (10*(-5))*np.max(d):\n",
    "            \n",
    "            Boolean = False\n",
    "            \n",
    "        y = ynew\n",
    "        k = k + 1\n",
    "        \n",
    "    \n",
    "    return x, y, l"
   ]
  },
  {
   "cell_type": "markdown",
   "metadata": {},
   "source": [
    "### Now run this unit test"
   ]
  },
  {
   "cell_type": "code",
   "execution_count": 12,
   "metadata": {},
   "outputs": [
    {
     "name": "stdout",
     "output_type": "stream",
     "text": [
      "9.364490596432115e-16\n",
      "Congrats! Your solver works!!\n"
     ]
    }
   ],
   "source": [
    "# There are two different optimality conditions that could be satisfied depending on how you formulate the lagrangian\n",
    "\n",
    "x0 = zeros((10,1))\n",
    "y0 = zeros((100,1))\n",
    "l0 = zeros((100,1))\n",
    "\n",
    "x, y, l = ADMM(hprox, x0, y0, l0, t, max_iters = 10000, tol=1e-6)\n",
    "\n",
    "error1 = norm(x+t*A.T@(A@x-y-l))\n",
    "error2 = norm(x+t*A.T@(A@x-y+l))\n",
    "print(error1)\n",
    "assert min(error1/norm(x), error2/norm(x))<1e-3, 'Your ADMM solver did not produce an accurate solution.'\n",
    "z1 = A@x-l\n",
    "z2 = A@x+l\n",
    "error1 = norm(y-z1 - maximum(minimum(1-z1,C/t),0))\n",
    "error2 = norm(y-z2 - maximum(minimum(1-z2,C/t),0))\n",
    "assert min(error1/norm(y),error2/norm(y)) <1e-3, 'Your ADMM solver did not produce an accurate solution.'\n",
    "print('Congrats! Your solver works!!')\n",
    "#good_job(\"https://www.cs.umd.edu/~tomg/img/important_memes/ron_awesome.png\")"
   ]
  },
  {
   "cell_type": "code",
   "execution_count": null,
   "metadata": {},
   "outputs": [],
   "source": []
  },
  {
   "cell_type": "code",
   "execution_count": null,
   "metadata": {},
   "outputs": [],
   "source": []
  }
 ],
 "metadata": {
  "kernelspec": {
   "display_name": "Python 3",
   "language": "python",
   "name": "python3"
  },
  "language_info": {
   "codemirror_mode": {
    "name": "ipython",
    "version": 3
   },
   "file_extension": ".py",
   "mimetype": "text/x-python",
   "name": "python",
   "nbconvert_exporter": "python",
   "pygments_lexer": "ipython3",
   "version": "3.8.8"
  }
 },
 "nbformat": 4,
 "nbformat_minor": 2
}
