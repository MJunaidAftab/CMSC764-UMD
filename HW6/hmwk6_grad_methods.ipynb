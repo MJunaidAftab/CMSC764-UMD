{
 "cells": [
  {
   "cell_type": "markdown",
   "metadata": {},
   "source": [
    "Name: **Muhammad Junaid Aftab**\n",
    "UID:  **117396188**"
   ]
  },
  {
   "cell_type": "markdown",
   "metadata": {},
   "source": [
    "# Homework 6:  Gradient methods and Duality\n",
    "\n",
    "Put the file `utility.py` into your directory.  Then run the following cell."
   ]
  },
  {
   "cell_type": "code",
   "execution_count": 1,
   "metadata": {},
   "outputs": [],
   "source": [
    "from utility import *\n",
    "import numpy as np\n",
    "from numpy import sqrt, sum, abs, max, maximum, logspace, exp, log, log10, zeros\n",
    "from numpy.linalg import norm\n",
    "from numpy.random import randn, rand, normal, randint\n",
    "import urllib\n",
    "import matplotlib.pyplot as plt\n",
    "from math import prod\n",
    "from IPython.display import clear_output\n",
    "np.random.seed(0)\n",
    "def good_job(path):\n",
    "    a = plt.imread(urllib.request.urlopen(path))\n",
    "    fig = plt.imshow(a)\n",
    "    fig.axes.get_xaxis().set_visible(False)\n",
    "    fig.axes.get_yaxis().set_visible(False)\n",
    "    plt.show()\n",
    "np.random.seed(0)"
   ]
  },
  {
   "cell_type": "markdown",
   "metadata": {},
   "source": [
    "# Problem 1:  Gradient descent\n",
    "Write a function that estimates the Lipschitz constant of a function $g$.  This can be done using the formula\n",
    "$$L \\approx \\frac{\\|g(x) - g(y)\\|}{\\|x-y\\|}.$$\n",
    "The inputs should be a function $g:\\mathbb{R}^n \\to \\mathbb{R}^m,$ and an initial vector $x$ in the domain of $g$."
   ]
  },
  {
   "cell_type": "code",
   "execution_count": 2,
   "metadata": {},
   "outputs": [],
   "source": [
    "def estimate_lipschitz(g, x):\n",
    "    \n",
    "    n = prod(np.shape(x))\n",
    "    delta = randn(n).reshape(np.shape(x))\n",
    "    \n",
    "    num = norm(g(x) - g(x+delta))\n",
    "    den = norm(delta)\n",
    "    L = num/den\n",
    "        \n",
    "    return L"
   ]
  },
  {
   "cell_type": "markdown",
   "metadata": {},
   "source": [
    "#### Now, run this unit test"
   ]
  },
  {
   "cell_type": "code",
   "execution_count": 3,
   "metadata": {},
   "outputs": [
    {
     "name": "stdout",
     "output_type": "stream",
     "text": [
      "Great - your Lipschitz estimator works!\n"
     ]
    }
   ],
   "source": [
    "g = lambda x: 10*x\n",
    "x = randn(3,4,5)\n",
    "L = estimate_lipschitz(g,x)\n",
    "assert abs(L-10)<1e-10, \"Your Lipschitz estimator is broken!\"\n",
    "print(\"Great - your Lipschitz estimator works!\")"
   ]
  },
  {
   "cell_type": "markdown",
   "metadata": {},
   "source": [
    "### Write a routine that minimizes a function using gradient descent.\n",
    "The inputs $f$ and $grad$ are function handles.  The function $f: \\mathbb{R}^N\\to \\mathbb{R}$ is an arbitrary objective function, and  $grad: \\mathbb{R}^N \\to \\mathbb{R}^N$ is its gradient.  The method should minimize $f$ using gradient descent, and terminate when the gradient of $f$ is small.  I suggest stopping when\n",
    " $$\\|\\nabla f(x^k)\\|<\\|\\nabla f(x^0)\\|*tol$$\n",
    " where $x^0$ is an initial guess and $tol$ is a small tolerance parameter (a typical value would be $10^{-4}$).  \n",
    " \n",
    "  Use a backtracking line search to guarantee convergence.   The stepsize should be monotonically decreasing.  Each iteration should begin by trying the stepsize that was used on the previous iteration, and then backtrack until the Armijo condition holds:\n",
    "  $$f(x^{k+1}) \\le f(x^k) + \\alpha \\langle x^{k+1} - x^k, \\nabla f(x^k)\\rangle,$$\n",
    "  where $\\alpha \\in (0,1),$ and $\\alpha=0.1$ is suggested.\n",
    "\n",
    "  The function returns the solution vector $x_{sol}$, and also a vector $res$ containing the norm of the residual (i.e., the norm of the gradient) at each iteration.\n",
    "\n",
    "This initial stepsize should be $10/L$, where $L$ is an estimate of the Lipschitz constant for the gradient."
   ]
  },
  {
   "cell_type": "code",
   "execution_count": 4,
   "metadata": {},
   "outputs": [],
   "source": [
    "def grad_descent(f, grad, x0, max_iters=10000, tol=1e-4):\n",
    "    \n",
    "    alpha = 0.1\n",
    "    tau = 10/(estimate_lipschitz(f, x0))\n",
    "    xk = x0\n",
    "    d = -grad(xk)\n",
    "    xk1 = xk + tau*d\n",
    "    \n",
    "    k = 0\n",
    "    res = []\n",
    "    res.append(norm(d))\n",
    "    Boolean = True\n",
    "    \n",
    "    while k <= max_iters and Boolean == True:\n",
    "        \n",
    "        while f(xk1) > f(xk) + alpha*np.vdot(xk1 - xk,grad(xk)):\n",
    "            \n",
    "            tau = tau/2\n",
    "            xk1 = xk + tau*d\n",
    "        \n",
    "        xk1 = xk + tau*d\n",
    "        \n",
    "        xk = xk1\n",
    "        d = -grad(xk)\n",
    "        xk1 = xk + tau*d\n",
    "        res.append(norm(d))\n",
    "        k = k + 1\n",
    "        \n",
    "        if norm(d)/norm(grad(x0)) < tol:\n",
    "            \n",
    "            Boolean = False\n",
    "    \n",
    "    return xk1, res"
   ]
  },
  {
   "cell_type": "markdown",
   "metadata": {},
   "source": [
    "### Now run this unit test.  It will use your routine to fit a logistic regression"
   ]
  },
  {
   "cell_type": "code",
   "execution_count": 5,
   "metadata": {},
   "outputs": [
    {
     "name": "stdout",
     "output_type": "stream",
     "text": [
      "Solver terminated in 368 steps\n",
      "Terrific!  Your routine works!\n"
     ]
    },
    {
     "data": {
      "image/png": "[encoded data removed]",
      "text/plain": [
       "<Figure size 432x288 with 1 Axes>"
      ]
     },
     "metadata": {
      "needs_background": "light"
     },
     "output_type": "display_data"
    }
   ],
   "source": [
    "# Define a classification problem\n",
    "X, y = create_classification_problem(100, 10, cond_number=10)\n",
    "# Define the logistic loss function, and its gradient\n",
    "f = lambda w: logreg_objective(w,X,y)\n",
    "grad = lambda w: logreg_objective_grad(w,X,y)\n",
    "# Pick the initial guess\n",
    "w0 = zeros((10,1))\n",
    "\n",
    "# Now, solve the minimization problem\n",
    "w_g, res = grad_descent(f,grad,w0)\n",
    "\n",
    "# Check the solution\n",
    "assert res[-1]/res[0]<1e-4, \"ERROR:  your gradient descent routine did not the minimize the function\"\n",
    "print(\"Solver terminated in %d steps\"%len(res))\n",
    "print(\"Terrific!  Your routine works!\")\n",
    "\n",
    "#x,res_g = grad_descent(f,grad,w0)\n",
    "n_g = list(range(len(res)))\n",
    "plt.semilogy(n_g,res)\n",
    "plt.legend(('gradient',))\n",
    "plt.xlabel('iteration')\n",
    "plt.ylabel('residual')\n",
    "plt.show()"
   ]
  },
  {
   "cell_type": "markdown",
   "metadata": {},
   "source": [
    "### Now, implement a gradient solver that begins each iterations using a Barzilai-Borwein stepsize \n",
    "  $$\\tau = \\frac{\\langle x^{k+1} - x^k ,x^{k+1} - x^k   \\rangle}{\\langle x^{k+1} - x^k ,\\nabla f(x^{k+1}) - \\nabla f(x^k)   \\rangle}.$$\n",
    "  Your routine should perform only 1 gradient computation per iteration (i.e., your method should not require any \"extra\" work).\n",
    "\n"
   ]
  },
  {
   "cell_type": "code",
   "execution_count": 6,
   "metadata": {},
   "outputs": [],
   "source": [
    "def grad_descent_bb(f, grad, x0, max_iters=10000, tol=1e-4):\n",
    "    \n",
    "    alpha = 0.1\n",
    "    xk = x0\n",
    "    d = -grad(xk)\n",
    "    tau = 10/estimate_lipschitz(f, x0)\n",
    "    xk1 = xk + tau*d\n",
    "\n",
    "    k = 0\n",
    "    res = []\n",
    "    res.append(norm(d))\n",
    "    Boolean = True\n",
    "    \n",
    "    while k <= max_iters and Boolean == True:\n",
    "        \n",
    "        num = np.vdot(xk1 - xk, xk1 - xk)\n",
    "        den = np.vdot(xk1 - xk, grad(xk1) - grad(xk))\n",
    "        tau = num/den\n",
    "        \n",
    "        while f(xk1) > f(xk) + alpha*np.vdot(xk1 - xk,grad(xk)):\n",
    "            \n",
    "            tau = tau/2\n",
    "            xk1 = xk + tau*d\n",
    "        \n",
    "        xk1 = xk + tau*d\n",
    "        \n",
    "        xk = xk1\n",
    "        d = -grad(xk)\n",
    "        xk1 = xk + tau*d\n",
    "        \n",
    "        res.append(norm(d))\n",
    "        k = k + 1\n",
    "        \n",
    "        if norm(d)/norm(grad(x0)) < tol:\n",
    "            \n",
    "            Boolean = False\n",
    "    \n",
    "    return xk, res"
   ]
  },
  {
   "cell_type": "markdown",
   "metadata": {},
   "source": [
    "### Now run this unit test"
   ]
  },
  {
   "cell_type": "code",
   "execution_count": 10,
   "metadata": {},
   "outputs": [
    {
     "name": "stdout",
     "output_type": "stream",
     "text": [
      "Solver terminated in 228 steps\n",
      "Terrific!  Your BB routine works!\n"
     ]
    },
    {
     "data": {
      "image/png": "[encoded data removed]",
      "text/plain": [
       "<Figure size 432x288 with 1 Axes>"
      ]
     },
     "metadata": {
      "needs_background": "light"
     },
     "output_type": "display_data"
    }
   ],
   "source": [
    "# Minimize that logistic loss again\n",
    "f = lambda w: logreg_objective(w,X,y)\n",
    "grad = lambda w: logreg_objective_grad(w,X,y)\n",
    "\n",
    "w, res = grad_descent_bb(f,grad,w0)\n",
    "assert res[-1]/res[0]<1e-4, \"ERROR:  Your BB routine did not the minimize the function\"\n",
    "print(\"Solver terminated in %d steps\"%len(res))\n",
    "print(\"Terrific!  Your BB routine works!\")\n",
    "\n",
    "_, res_g = grad_descent(f,grad,w0)\n",
    "_, res_b = grad_descent_bb(f,grad,w0)\n",
    "n_g = list(range(len(res_g)))\n",
    "n_b = list(range(len(res_b)))\n",
    "\n",
    "plt.semilogy(n_g,res_g,n_b,res_b)\n",
    "plt.legend(('gradient','bb'))\n",
    "plt.xlabel('iteration')\n",
    "plt.ylabel('residual')\n",
    "plt.show()"
   ]
  },
  {
   "cell_type": "markdown",
   "metadata": {},
   "source": [
    "### Write a routine that uses Nesterov's accelerated gradient method\n",
    "\\begin{align}\n",
    "x^{k} &= y^k - \\tau \\nabla f(y^k)\\\\\n",
    "\\delta^{k+1} &= \\frac{1+\\sqrt{1+4(\\delta^k)^2}}{2}\\\\\n",
    "y^{k+1} &= x^{k}+\\frac{\\delta^k-1}{\\delta^{k+1}}(x^k-x^{k-1})\n",
    "\\end{align}\n",
    "The stepsize restriction for Nesterov's methods is $\\tau<1/L,$ however when $L$ is not known exactly you can use the line search condition\n",
    " $$f(x^k) \\le f(y^{k}) + \\alpha (x^k-y^k)^T\\nabla f(y^k), $$\n",
    " where $\\alpha \\in [1/2,1).$  I suggest choosing $\\alpha=1/2.$"
   ]
  },
  {
   "cell_type": "code",
   "execution_count": 11,
   "metadata": {},
   "outputs": [],
   "source": [
    "def grad_descent_nesterov(f, grad, x0, max_iters=10000, tol=1e-4):\n",
    "    \n",
    "    alpha = 1/2\n",
    "    xkm1 = x0\n",
    "    yk = x0\n",
    "    delk = 1\n",
    "    d = -grad(yk)\n",
    "    tau = 10/estimate_lipschitz(f, x0)\n",
    "\n",
    "    k = 0\n",
    "    res = []\n",
    "    res.append(norm(d))\n",
    "    Boolean = True\n",
    "    \n",
    "    while k <= max_iters and Boolean == True:\n",
    "        \n",
    "        xk = yk + tau*d\n",
    "        \n",
    "        while f(xk) > f(yk) + alpha*np.vdot(xk - yk,-d):\n",
    "            \n",
    "            tau = tau/2\n",
    "            xk = yk + tau*d\n",
    "            \n",
    "        xk = yk + tau*d\n",
    "        \n",
    "        delk1 = (1 + sqrt(1 + 4*delk*delk))/2\n",
    "        yk1 = xk + ((delk - 1)/delk1)*(xk - xkm1)\n",
    "        \n",
    "        xkm1 = xk\n",
    "        yk = yk1\n",
    "        delk = delk1\n",
    "        d = -grad(yk)\n",
    "        \n",
    "        res.append(norm(d))\n",
    "        k = k + 1\n",
    "        \n",
    "        if norm(d)/norm(grad(x0)) < tol:\n",
    "            \n",
    "            Boolean = False\n",
    "    \n",
    "    return xkm1, res"
   ]
  },
  {
   "cell_type": "markdown",
   "metadata": {},
   "source": [
    "### Now run this unit test"
   ]
  },
  {
   "cell_type": "code",
   "execution_count": 12,
   "metadata": {},
   "outputs": [
    {
     "name": "stdout",
     "output_type": "stream",
     "text": [
      "Solver terminated in 194 steps\n",
      "Terrific!  Your Nesterov routine works!\n"
     ]
    },
    {
     "data": {
      "image/png": "[encoded data removed]",
      "text/plain": [
       "<Figure size 432x288 with 1 Axes>"
      ]
     },
     "metadata": {
      "needs_background": "light"
     },
     "output_type": "display_data"
    }
   ],
   "source": [
    "# Minimize the logistic loss using Nesterov's method\n",
    "f = lambda w: logreg_objective(w,X,y)\n",
    "grad = lambda w: logreg_objective_grad(w,X,y)\n",
    "\n",
    "w, res = grad_descent_nesterov(f,grad,w0)\n",
    "assert res[-1]/res[0]<1e-4, \"ERROR:  Your Nesterov routine did not the minimize the function\"\n",
    "print(\"Solver terminated in %d steps\"%len(res))\n",
    "print(\"Terrific!  Your Nesterov routine works!\")\n",
    "\n",
    "_, res_g = grad_descent(f,grad,w0)\n",
    "_, res_b = grad_descent_bb(f,grad,w0)\n",
    "_, res_n = grad_descent_nesterov(f,grad,w0)\n",
    "n_g = list(range(len(res_g)))\n",
    "n_b = list(range(len(res_b)))\n",
    "n_n = list(range(len(res_n)))\n",
    "\n",
    "plt.semilogy(n_g,res_g,n_b,res_b,n_n,res_n)\n",
    "plt.legend(('gradient','bb','nesterov'))\n",
    "plt.xlabel('iteration')\n",
    "plt.ylabel('residual')\n",
    "plt.show()"
   ]
  },
  {
   "cell_type": "markdown",
   "metadata": {},
   "source": [
    "# Problem 2:  Image denoising\n",
    "Consider this noisy test image."
   ]
  },
  {
   "cell_type": "code",
   "execution_count": 13,
   "metadata": {},
   "outputs": [
    {
     "name": "stdout",
     "output_type": "stream",
     "text": [
      "Here is a noisy image...\n"
     ]
    },
    {
     "data": {
      "image/png": "[encoded data removed]",
      "text/plain": [
       "<Figure size 432x288 with 1 Axes>"
      ]
     },
     "metadata": {
      "needs_background": "light"
     },
     "output_type": "display_data"
    }
   ],
   "source": [
    "# Don't modify this block\n",
    "image = zeros((50,50))\n",
    "image[15:35,15:35]=1\n",
    "image = image+0.1*randn(50,50)\n",
    "print('Here is a noisy image...')\n",
    "plt.imshow(image)\n",
    "plt.show()"
   ]
  },
  {
   "cell_type": "markdown",
   "metadata": {},
   "source": [
    "#### Here's the TV loss function from a previous homework..."
   ]
  },
  {
   "cell_type": "code",
   "execution_count": 14,
   "metadata": {},
   "outputs": [],
   "source": [
    "# Don't modify this block\n",
    "mu = .1\n",
    "def h(z, eps=.01):\n",
    "    \"\"\"The hyperbolic approximation to L1\"\"\"\n",
    "    return sum(sqrt(z*z+eps*eps).ravel())\n",
    "def tv_denoise_objective(x,mu,b):\n",
    "    return mu*h(grad2d(x)) + 0.5*norm(x-b)**2\n",
    "def h_grad(z, eps=.01):\n",
    "    \"\"\"The gradient of h\"\"\"\n",
    "    return z/sqrt(z*z+eps*eps)\n",
    "def tv_denoise_grad(x,mu,b):\n",
    "    \"\"\"The gradient of the TV objective\"\"\"\n",
    "    return mu*divergence2d(h_grad(grad2d(x))) + x-b"
   ]
  },
  {
   "cell_type": "markdown",
   "metadata": {},
   "source": [
    "### Use your BB solver to minimize the TV objective, and denoise the test image."
   ]
  },
  {
   "cell_type": "code",
   "execution_count": 15,
   "metadata": {},
   "outputs": [
    {
     "name": "stdout",
     "output_type": "stream",
     "text": [
      "Here's the denoised image...\n"
     ]
    },
    {
     "data": {
      "image/png": "[encoded data removed]",
      "text/plain": [
       "<Figure size 432x288 with 1 Axes>"
      ]
     },
     "metadata": {
      "needs_background": "light"
     },
     "output_type": "display_data"
    }
   ],
   "source": [
    "f = lambda x: tv_denoise_objective(x,mu,image)\n",
    "grad = lambda x: tv_denoise_grad(x,mu,image)\n",
    "x0 = np.zeros_like(image)\n",
    "\n",
    "x, res = grad_descent_bb(f, grad, x0, max_iters=10000, tol=1e-4)\n",
    "\n",
    "# Don't modify the three lines below\n",
    "print(\"Here's the denoised image...\")\n",
    "plt.imshow(x)\n",
    "plt.show()"
   ]
  },
  {
   "cell_type": "markdown",
   "metadata": {},
   "source": [
    "# Problem 3:  The dual\n",
    "Consider the \"monotropic\" program\n",
    "\\begin{align}\n",
    "\\text{minimize} & \\quad  \\|x\\|_\\infty \\\\\n",
    "\\text{subject to} & \\quad Ax=b . \\nonumber\n",
    "\\end{align}\n",
    "\n",
    "Write this as an unconstrained (or implicitly constrained) problem using the characteristic function of the zero vector $\\chi_0(z) .$  This function is zero if it's argument is zero, and infinite otherwise.\n",
    "\n"
   ]
  },
  {
   "cell_type": "markdown",
   "metadata": {},
   "source": [
    "$$\n",
    "\\min_{x} \\|x\\|_\\infty + \\chi_0(Ax - b).\n",
    "$$"
   ]
  },
  {
   "cell_type": "markdown",
   "metadata": {},
   "source": [
    "#### What is the conjugate of $f(z)= \\|z\\|_\\infty$?"
   ]
  },
  {
   "cell_type": "markdown",
   "metadata": {},
   "source": [
    "We have,\n",
    "\n",
    "$$\n",
    "\\|\\|^{*}_\\infty(y)\n",
    "=\n",
    "\\sup_{z} y^{T} z - \\|z\\|_\\infty.\n",
    "$$\n",
    "\n",
    "Using dual norms and Holder's inequality, we have $| y^{T} z | \\leq \\|y\\|_1 \\|z\\|_\\infty$. First let $\\|y\\|_1 < 1$. By Holder's Inequality, $y^{T} z \\leq \\|y\\|_1 \\|z\\|_\\infty$ and the RHS is at most  $\\|z\\|_\\infty ( \\|y\\|_1 - 1 )$. Then the RHS is $\\leq 0$ and can be made $0$ by taking $z = 0$. \n",
    "\n",
    "Now let $\\|y\\|_1 > 1$. Let $1 \\leq k \\leq n$ be the smallest integer such that $|y_1| + \\cdots + |y_k| > 1$. Let $z = t(\\pm 1, \\cdots, \\pm 1, 0, \\cdots, 0)$, such that $t > 0$, the first $k$ components of $z$ are $\\pm 1$, and a component is $+1 \\; (-1)$ if and only if the corresponding component in $y$ is positive (negative). Hence we have \n",
    "$y^{T} z - \\|z\\|_\\infty = t ( |y_1| + \\cdots + |y_k| - 1)$. This goes to infinity as $t$ goes to $+ \\infty$.\n",
    "\n",
    "Hence we have,\n",
    "\n",
    "$$\n",
    "\\|\\|^{*}_\\infty(y)\n",
    "= 0 \\; \\text{if} \\; \\|y\\|_1 \\leq 1,\n",
    "\\quad \n",
    "\\|\\|^{*}_\\infty(y)\n",
    "= + \\infty \\; \\text{if} \\; \\|y\\|_1 > 1.\n",
    "$$"
   ]
  },
  {
   "cell_type": "markdown",
   "metadata": {},
   "source": [
    "#### What is the conjugate of $g(z)=\\chi_0(z)$?"
   ]
  },
  {
   "cell_type": "markdown",
   "metadata": {},
   "source": [
    "We have,\n",
    "\n",
    "$$\n",
    "\\chi^{*}_0(y)\n",
    "=\n",
    "\\sup_{z} y^{T} z - \\chi_0(z).\n",
    "$$\n",
    "\n",
    "If $y = 0$, the supremum on the RHS is zero (just pick a non-zero $z$). If $y \\neq 0$, then every $z$ can be expressed as $z = \\alpha y + x$ such that $\\alpha \\in \\mathbf{R}$ and $x$ is orthogonal to $y$. We then have that the RHS is $-1$ if $z = 0$ and is $\\alpha \\| y \\|^2$ for $z \\neq 0$. The RHS is clearly unbounded in this case (just let $\\alpha$ go to $+ \\infty$.). Hence we have,\n",
    "\n",
    "$$\n",
    "\\chi^{*}_0(y)\n",
    "= 0 \\; \\text{if} \\; y = 0,\n",
    "\\quad \n",
    "\\chi^{*}_0(y)\n",
    "= + \\infty \\; \\text{if} \\; y \\neq 0.\n",
    "$$"
   ]
  },
  {
   "cell_type": "markdown",
   "metadata": {},
   "source": [
    "#### Using the conjugate functions, write down the dual of the monotropic problem."
   ]
  },
  {
   "cell_type": "markdown",
   "metadata": {},
   "source": [
    "We derive the dual of the monotropic problem in terms of the conjugate functions. The Lagrangian is given by,\n",
    "\n",
    "$$\n",
    "L( x, \\lambda )\n",
    "=\n",
    "\\|x\\|_\\infty + \\lambda^T (Ax - b).\n",
    "$$\n",
    "\n",
    "The dual function is,\n",
    "\n",
    "$$\n",
    "g(\\lambda)\n",
    "=\n",
    "\\inf_x \\|x\\|_\\infty + \\lambda^T (Ax - b)\n",
    "=\n",
    "- \\lambda^T b + \\inf_x (  \\|x\\|_\\infty + \\lambda^T Ax )\n",
    "=\n",
    "- \\lambda^T b - \\sup_x (  - \\|x\\|_\\infty + (- A^T \\lambda )^Tx )\n",
    "=\n",
    "- \\lambda^T b - \\|\\|^{*}_\\infty( - A^T \\lambda ).\n",
    "$$\n",
    "\n",
    "Using the result in (a), we have,\n",
    "\n",
    "$$\n",
    "g(\\lambda)\n",
    "= - \\lambda^T b \\; \\text{if} \\; \\|A^T \\lambda\\|_1 \\leq 1,\n",
    "\\quad \n",
    "g(\\lambda)\n",
    "= - \\infty \\; \\text{if} \\; \\|A^T \\lambda\\|_1 > 1.\n",
    "$$\n"
   ]
  },
  {
   "cell_type": "markdown",
   "metadata": {},
   "source": [
    "# Problem 4:  Linear programming\n",
    "Consider the linear program\n",
    "\\begin{align*}\n",
    "\\text{minimize} \\quad &  c^T x \\\\\n",
    "\\text{subject to} \\quad & Ax=b\\\\\n",
    " & x\\ge 0.\n",
    "\\end{align*}\n",
    "\n",
    "#### Write the optimality conditions for this problem (i.e., the KKT system)."
   ]
  },
  {
   "cell_type": "markdown",
   "metadata": {},
   "source": [
    "Let $x^*$ be an optimal point. The KKT conditions are:\n",
    "\n",
    "\\begin{align*}\n",
    "Ax^* - b = 0, -x^* \\leq 0, \\quad \\text{primal fesibility}, \\\\\n",
    "\\lambda \\geq 0, \\quad \\text{dual fesibility}, \\\\\n",
    "c + A^T = \\lambda, \\quad \\text{dual optimality}, \\\\\n",
    "-\\nu^T x^*, \\quad \\text{complemntary slackness}.\n",
    "\\end{align*}\n",
    "\n",
    "See the Lagrangian below."
   ]
  },
  {
   "cell_type": "markdown",
   "metadata": {},
   "source": [
    "#### Write the Lagrangian for this problem."
   ]
  },
  {
   "cell_type": "markdown",
   "metadata": {},
   "source": [
    "The Lagrangian is given by,\n",
    "\n",
    "$$\n",
    "L(x, \\lambda, \\nu) = c^T x + \\nu^T (Ax - b) - \\lambda^T x\n",
    "=\n",
    "- \\nu^T b + (c + A^T \\nu - \\lambda )^Tx.\n",
    "$$"
   ]
  },
  {
   "cell_type": "markdown",
   "metadata": {},
   "source": [
    "#### Minimize out the primal variables in the Lagrangian, and write the dual formulation of this linear program."
   ]
  },
  {
   "cell_type": "markdown",
   "metadata": {},
   "source": [
    "The dual function is,\n",
    "\n",
    "$$\n",
    "g(\\lambda, \\nu) = \\inf_x L(x, \\lambda, \\nu) = - \\nu^T b + \\inf_x \\; (c + A^T \\nu - \\lambda )^Tx.\n",
    "$$\n",
    "\n",
    "Since the we function in $x$ is affine, we have,\n",
    "\n",
    "$$\n",
    "g(\\lambda, \\nu)\n",
    "= - \\nu^T b \\; \\text{if} \\; c + A^T \\nu - \\lambda = 0,\n",
    "\\quad \n",
    "g(\\lambda, \\nu)\n",
    "= - \\infty \\; \\text{otherwisse} \\;.\n",
    "$$\n",
    "\n",
    "The Lagrange dual problem is,\n",
    "\n",
    "$$\n",
    "\\max_{\\lambda, \\nu} g(\\lambda, \\nu)\n",
    "\\quad \n",
    "\\text{such that}\n",
    "\\quad \n",
    "\\lambda \\succeq 0.\n",
    "$$\n",
    "\n",
    "Now $g(\\lambda, \\nu)$ is finite and satisfies the constraint of the dual problem if and only if $c + A^T \\nu = \\lambda \\succeq 0$. Hence the dual problem is,\n",
    "\n",
    "$$\n",
    "\\max_{\\nu}\n",
    "- \\nu^T b\n",
    "\\quad\n",
    "\\text{such that}\n",
    "\\quad \n",
    "\\lambda = c + A^T \\nu \\succeq 0.\n",
    "$$"
   ]
  },
  {
   "cell_type": "code",
   "execution_count": null,
   "metadata": {},
   "outputs": [],
   "source": []
  }
 ],
 "metadata": {
  "kernelspec": {
   "display_name": "Python 3",
   "language": "python",
   "name": "python3"
  },
  "language_info": {
   "codemirror_mode": {
    "name": "ipython",
    "version": 3
   },
   "file_extension": ".py",
   "mimetype": "text/x-python",
   "name": "python",
   "nbconvert_exporter": "python",
   "pygments_lexer": "ipython3",
   "version": "3.8.8"
  }
 },
 "nbformat": 4,
 "nbformat_minor": 2
}
