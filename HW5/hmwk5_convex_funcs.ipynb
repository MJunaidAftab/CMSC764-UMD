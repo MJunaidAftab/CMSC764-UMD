{
 "cells": [
  {
   "cell_type": "markdown",
   "metadata": {},
   "source": [
    "Name: **Muhammad Junaid Aftab**\n",
    "UID:  **117396188**"
   ]
  },
  {
   "cell_type": "markdown",
   "metadata": {},
   "source": [
    "# Homework 5:  Convex Functions  \n",
    "\n",
    "Use either the slides, or Boyd $\\S$3.2 as a reference.\n"
   ]
  },
  {
   "cell_type": "markdown",
   "metadata": {},
   "source": [
    "# Problem 1\n",
    "For this problem, you may use any of the results/rules from the lecture slides.\n",
    "\n",
    "### (a) Consider the set of probability functions defined on $\\mathbb{R}$, given by $\\{f| f\\ge 0, \\text{and} \\int f = 1 \\}.$  Is this a convex set?"
   ]
  },
  {
   "cell_type": "markdown",
   "metadata": {},
   "source": [
    "Let $f,g$ be functions contained in the given set, and let $\\alpha \\in [0,1]$. We then have that,\n",
    "\n",
    "$$\n",
    "\\alpha f + (1 - \\alpha)g \\geq 0,\n",
    "$$\n",
    "\n",
    "since each term in the sum is a non-negative function. Moreover, we have,\n",
    "\n",
    "$$\n",
    "\\int_\\mathbf{R} \\alpha f + (1 - \\alpha)g dx\n",
    "=\n",
    "\\alpha \\int_\\mathbf{R}  f dx + (1 - \\alpha) \\int_\\mathbf{R} g dx\n",
    "=\n",
    "\\alpha + (1 - \\alpha)\n",
    "=\n",
    "1.\n",
    "$$\n",
    "This shows that the set is convex."
   ]
  },
  {
   "cell_type": "markdown",
   "metadata": {},
   "source": [
    "### (b) Consider the set of $n\\times n$ low-rank matrices $\\{A\\in\\mathbb{R}^{n\\times n} | \\, \\text{rank}(A) \\leq k \\},$ where $0<k<n$.   Is this set convex?  Why?"
   ]
  },
  {
   "cell_type": "markdown",
   "metadata": {},
   "source": [
    "Assume that $1 < k < n$. Consider the matrices, \n",
    "\n",
    "$$\n",
    "A\n",
    "=\n",
    "\\left(\n",
    "    \\begin{array}{cccc} \n",
    "    1 & 0 & \\cdots & 0 \\\\ \n",
    "    0 & 0 & \\cdots & 0 \\\\\n",
    "    0 & \\ddots & \\cdots & 0 \\\\\n",
    "    \\vdots & \\ddots & 0 &  0 \\\\\n",
    "    0 & \\cdots & 0 & 0 \n",
    "    \\end{array}\n",
    "\\right),\n",
    "\\;\n",
    "\\;\n",
    "B\n",
    "=\n",
    "\\left(\n",
    "    \\begin{array}{cccc} \n",
    "    0 & 0 & \\cdots & 0 \\\\ \n",
    "    0 & 1 & \\cdots & 0 \\\\\n",
    "    0 & \\ddots & \\cdots & 0 \\\\\n",
    "    \\vdots & \\ddots & 1 &  0 \\\\\n",
    "    0 & \\cdots & 0 & 0 \n",
    "    \\end{array},\n",
    "\\right) \n",
    "$$\n",
    "\n",
    "where the matrix $B$ has $k1$ one's on the diagonal. Hence $A$ has rank $1$ and $B$ has rank $k$. For $\\alpha = 1/2$, we have,\n",
    "\n",
    "$$\n",
    "C\n",
    "=\n",
    "\\frac{A + B}{2}\n",
    "=\n",
    "\\frac{1}{2}\n",
    "\\left(\n",
    "    \\begin{array}{cccc} \n",
    "    1 & 0 & \\cdots & 0 \\\\ \n",
    "    0 & 1 & \\cdots & 0 \\\\\n",
    "    0 & \\ddots & \\cdots & 0 \\\\\n",
    "    \\vdots & \\ddots & 1 &  0 \\\\\n",
    "    0 & \\cdots & 0 & 0 \n",
    "    \\end{array},\n",
    "\\right),\n",
    "$$\n",
    "\n",
    "where the matrix $C$ has $k+1$ one's on the diagonal. Hence $C$ has rank $k+1$ and is not in the set. This shows the set is not convex."
   ]
  },
  {
   "cell_type": "markdown",
   "metadata": {},
   "source": [
    "### c) Suppose $\\{A_i\\}$ are matrices of identical size.  Define the set $$\\{X \\,\\,|\\,\\,  \\text{trace}(A_i^T X A_i) \\le 0, \\,\\, \\forall i \\}.$$\n",
    "Is this set of matrices convex?"
   ]
  },
  {
   "cell_type": "markdown",
   "metadata": {},
   "source": [
    "We first show that the set,\n",
    "\n",
    "$$\n",
    "C = \\{X \\,\\,|\\,\\,  \\text{trace}(A_i^T X A_i) \\geq 0, \\,\\, \\forall i \\},\n",
    "$$\n",
    "\n",
    "is convex. Let $X, Y \\in C$, and let $\\alpha \\in [0,1]$. For each matrix $A_i,$ we have,\n",
    "\n",
    "$$\n",
    "\\text{Trace} ( A_i^T ( \\alpha X + (1 - \\alpha) Y ) A_i )\n",
    "=\n",
    "\\text{Trace} ( A_i^T \\alpha X A_i^T ) + \\text{Trace} ( A_i (1 - \\alpha) Y  A_i )\n",
    "=\n",
    "\\alpha \\text{Trace} ( A_i^T X A_i^T ) + (1 - \\alpha) \\text{Trace} ( A_i Y  A_i )\n",
    "\\geq 0,\n",
    "$$\n",
    "\n",
    "since since each term in the sum is a non-negative. This shows that the set $C$ is convex. Note that the set given in the problem is exactly $-C$. Since convexity is preserve under dilations, the set in question is indeed convex."
   ]
  },
  {
   "cell_type": "markdown",
   "metadata": {},
   "source": [
    "### (d) Let $C \\subset \\mathbb{R}^n$ be a compact (closed and bounded), non-empty convex set.  For a scalar $x,$ let C(x) be the set of all points in $C$ whose first coordinate is closer to x than any other point. More precisely: $C(x)=\\{a\\in C \\, |\\,  \\forall b \\in C , |a_1-x|\\le |b_1-x|  \\}.$  Is $C(x)$ a convex set for any choice of $x$? Why?"
   ]
  },
  {
   "cell_type": "markdown",
   "metadata": {},
   "source": [
    "Let $u,v \\in C(x)$ and let $\\alpha \\in [0,1]$. Using the fact that $|u_1 - x| \\leq |b_1 - x|$ and $|v_1 - x| \\leq |b_1 - x|$ for each $b \\in C$, we have,\n",
    "\n",
    "$$\n",
    "| \\alpha u_1 + (1 - \\alpha) v_1 - x |\n",
    "=\n",
    "| \\alpha u_1 + (1 - \\alpha) v_1 - \\alpha x - (1 - \\alpha ) x |\n",
    "=\n",
    "| \\alpha (u_1 - x) + (1 - \\alpha) (v_1 - x) |\n",
    "\\leq \n",
    "\\alpha | u_1 - x | + (1 - \\alpha) | v_1 - x|\n",
    "\\leq \n",
    "\\alpha | b_1 - x | + (1 - \\alpha) | b_1 - x|\n",
    "=\n",
    "| b_1 - x |,\n",
    "$$\n",
    "\n",
    "for each $b \\in C$. This shows that $\\alpha u + (1 - \\alpha) v$ is in the set and the set is convex."
   ]
  },
  {
   "cell_type": "markdown",
   "metadata": {},
   "source": [
    "### (e)  Let $\\|\\cdot\\|$ be the vector 2-norm.  Is the set $C = \\{(x,y)\\, |\\,\\, \\|x\\| \\le  y \\}$ convex?  Is it a cone?  Why?  What about the set $C = \\{(x,y)\\, |\\,\\, \\|x\\|^2 \\le  y \\}?$  Is this convex? Is this a  cone?  Here, $x$ is a vector and $y$ is a scalar."
   ]
  },
  {
   "cell_type": "markdown",
   "metadata": {},
   "source": [
    "First consider $C = \\{(x,y)\\, |\\,\\, \\|x\\| \\le  y \\}$. Let $(x,y)$ and $(u,v)$ in $C$ and let $\\alpha \\in [0,1]$. We have,\n",
    "\n",
    "$$\n",
    "\\| \\alpha x + (1 - \\alpha) u \\|\n",
    "\\leq \n",
    "\\alpha \\|  x \\| + (1 - \\alpha) \\| u \\|\n",
    "\\leq \n",
    "\\alpha y + (1 - \\alpha) v.\n",
    "$$\n",
    "\n",
    "This shows that $\\alpha (x,y) + (1 - \\alpha) (u,v)$ is in $C$. Hence $C$ is a convex set. Now consider $\\theta_1, \\theta_2 \\geq 0$. By essentially the same argument as above, we have,\n",
    "\n",
    "$$\n",
    "\\| \\theta_1 x + \\theta_2 u \\|\n",
    "\\leq \n",
    "\\theta_1 \\|  x \\| + \\theta_2 \\| u \\|\n",
    "\\leq \n",
    "\\theta_1 y + \\theta_2 v.\n",
    "$$\n",
    "\n",
    "This shows that $\\theta_1 (x,y) + \\theta_2 (u,v)$ is in $C$. Hence $C$ is a cone as well.\n",
    "\n",
    "Now consider $C = \\{(x,y)\\, |\\,\\, \\|x\\|^2 \\le  y \\}$. Consider $((1,0),1)$ and $((0,1),1)$ which are in $C$. However, the vector $2 ((1,0),1) + ((0,1),1) = ((2,1),3)$  is such that $\\| (2,1) \\|^2 = 5 > 3$. Hence $C$ is not a cone. Similarly, $C$ isn't convex. Consider $((2,1),2)$ and $((1,2),2)$ which are in $C$. However, the vector $1/2 ((2,1),2) + 1/2 ((1,2),2) = ((3/2,3/2),2)$  is such that $\\| (3/2,3/2) \\|^2 = 4.5 > 2$. Hence $C$ is not convex."
   ]
  },
  {
   "cell_type": "markdown",
   "metadata": {},
   "source": [
    "## Problem 2\n",
    "### (a) Suppose the function $f(x,y)$ is convex.  Prove that \n",
    "  $$g(x) = \\min_y f(x,y)$$\n",
    "  is also convex.\n"
   ]
  },
  {
   "cell_type": "markdown",
   "metadata": {},
   "source": [
    "Let $x,z \\in \\mathbf{R}$ and let $\\alpha \\in [0,1]$. We have,\n",
    "\n",
    "$$\n",
    "g( \\alpha x + (1 - \\alpha ) z )\n",
    "=\n",
    "\\min_y\n",
    "f( \\alpha x + (1 - \\alpha ) z, y )\n",
    "\\leq \n",
    "\\min_y ( \\alpha f( x, y ) + (1 - \\alpha ) f(z,y) ),\n",
    "$$\n",
    "\n",
    "where the last nequality follows since $f$ is convex. Moreover, we have,\n",
    "\n",
    "$$\n",
    "\\min_y ( \\alpha f( x, y ) + (1 - \\alpha ) f(z,y) )\n",
    "\\leq \n",
    "\\alpha f( x, y ) + (1 - \\alpha ) f(z,y) , \\; \\; \\text{for each $y$}.\n",
    "$$\n",
    "Hence,\n",
    "$$\n",
    "\\min_y ( \\alpha f( x, y ) + (1 - \\alpha ) f(z,y) )\n",
    "\\leq \n",
    "\\min_y \\alpha f( x, y ) + \\min_y (1 - \\alpha ) f( z, y )\n",
    "=\n",
    "\\alpha g(x) + (1 - \\alpha) g(z).\n",
    "$$\n",
    "Hence $g( \\alpha x + (1 - \\alpha ) z ) \\leq \\alpha g(x) + (1 - \\alpha) g(z)$, implying $g$ is convex."
   ]
  },
  {
   "cell_type": "markdown",
   "metadata": {},
   "source": [
    "### (b)  Suppose $f$ is strongly convex.  Show that the gradient of $f$ is strongly monotone, i.e., there is a constant $m>0$ with \n",
    "  $$ \\langle x-y,\\nabla f(x) - \\nabla f(y) \\rangle \\ge m\\|x-y\\|^2.$$\n"
   ]
  },
  {
   "cell_type": "markdown",
   "metadata": {},
   "source": [
    "Since $f$ is strongly convex, there is a $m > 0$ such that,\n",
    "\n",
    "$$\n",
    "f(y) \\geq f(x) + \\nabla f(x)^{T} (y - x) + \\frac{m}{2} \\| x - y \\|^2,\n",
    "$$\n",
    "\n",
    "for each $x, y$ in the domain of $f$. Swapping $x$ and $y$, we also have,\n",
    "\n",
    "$$\n",
    "f(x) \\geq f(y) + \\nabla f(y)^{T} (x - y) + \\frac{m}{2}  \\| x - y \\|^2.\n",
    "$$\n",
    "\n",
    "Adding the two inequalities, we have,\n",
    "\n",
    "$$\n",
    "f(x) + f(y) \\geq f(x) + f(y) + \\nabla f(x)^{T} (y - x) + \\nabla f(y)^{T} (x - y) + m  \\| x - y \\|^2.\n",
    "$$\n",
    "\n",
    "This implies,\n",
    "\n",
    "$$\n",
    "\\nabla f(x)^{T} (x - y) - \\nabla f(y)^{T} (x - y) \\geq m  \\| x - y \\|^2.\n",
    "$$\n",
    "\n",
    "This is equivalent to,\n",
    "\n",
    "$$\n",
    "\\langle x - y, \\nabla f(x) - \\nabla f(y)  \\geq m  \\| x - y \\|^2.\n",
    "$$"
   ]
  },
  {
   "cell_type": "markdown",
   "metadata": {},
   "source": [
    "# Problem 3\n",
    " Suppose that $g(x)$ is convex and $h(x)$ is concave (i.e. $-h(x)$ is convex).  Suppose we restrict both functions into a closed, convex set $C$ such that both $g(x)$ and $h(x)$ are always positive when $x \\in C.$  Prove that the function\n",
    "  $f(x) = g(x)/h(x)$ \n",
    "  is quasi-convex.  (note: It follows that every local minimum is also global)\n",
    "\n"
   ]
  },
  {
   "cell_type": "markdown",
   "metadata": {},
   "source": [
    "Let $\\alpha \\in \\mathbf{R}$. Consider the sub-level set $L_\\alpha = \\{ x \\in \\mathbf{R}^n | f(x) \\leq \\alpha \\}$. If $\\alpha \\leq 0$, then $L_\\alpha = \\{ x \\in \\mathbf{R}^n | \\;  g(x)/h(x) \\; \\leq \\alpha \\} = \\emptyset$ since by assumption $f(x) > 0$ for each $x \\in C$. If $\\alpha > 0$, note that $L_\\alpha = \\{ x \\in \\mathbf{R}^n | h(x) - \\alpha g(x) \\leq 0 \\}$. Since $h$ is convex, $-g$ is convex $\\alpha > 0$, the function $f - \\alpha g$ is convex. Since convex functions have convex sub-level sets, $L_\\alpha$ is a convex set. In either case, we see that $L_\\alpha$ is a convex set. Hence $f$ is a quasi-convex function."
   ]
  }
 ],
 "metadata": {
  "kernelspec": {
   "display_name": "Python 3",
   "language": "python",
   "name": "python3"
  },
  "language_info": {
   "codemirror_mode": {
    "name": "ipython",
    "version": 3
   },
   "file_extension": ".py",
   "mimetype": "text/x-python",
   "name": "python",
   "nbconvert_exporter": "python",
   "pygments_lexer": "ipython3",
   "version": "3.8.8"
  }
 },
 "nbformat": 4,
 "nbformat_minor": 2
}
